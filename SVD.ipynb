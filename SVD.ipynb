{
  "nbformat": 4,
  "nbformat_minor": 0,
  "metadata": {
    "colab": {
      "provenance": [],
      "authorship_tag": "ABX9TyNyJtb5KdZUOyIoyuXMe50f",
      "include_colab_link": true
    },
    "kernelspec": {
      "name": "python3",
      "display_name": "Python 3"
    },
    "language_info": {
      "name": "python"
    }
  },
  "cells": [
    {
      "cell_type": "markdown",
      "metadata": {
        "id": "view-in-github",
        "colab_type": "text"
      },
      "source": [
        "<a href=\"https://colab.research.google.com/github/Atharv24-Atreus/Deep-Learning-Lab/blob/main/SVD.ipynb\" target=\"_parent\"><img src=\"https://colab.research.google.com/assets/colab-badge.svg\" alt=\"Open In Colab\"/></a>"
      ]
    },
    {
      "cell_type": "code",
      "execution_count": 1,
      "metadata": {
        "id": "Ounb0pgK37Xo",
        "outputId": "b298ba93-d686-4e9e-d0e8-9297965ece21",
        "colab": {
          "base_uri": "https://localhost:8080/"
        }
      },
      "outputs": [
        {
          "output_type": "stream",
          "name": "stdout",
          "text": [
            "Final Matrix A:\n",
            "[[6 4 1]\n",
            " [9 7 1]]\n",
            "\n",
            "Matrix U:\n",
            "[[-0.53606351 -0.84417765]\n",
            " [-0.84417765  0.53606351]]\n",
            "\n",
            "Singular Values (as a diagonal matrix):\n",
            "[[13.55382057  0.        ]\n",
            " [ 0.          0.54216958]]\n",
            "\n",
            "Matrix VT:\n",
            "[[-0.79785474 -0.59418653 -0.1018341 ]\n",
            " [-0.44357767  0.69301926 -0.56829847]\n",
            " [-0.40824829  0.40824829  0.81649658]]\n"
          ]
        }
      ],
      "source": [
        "import numpy as np  # Importing the NumPy library for numerical operations\n",
        "\n",
        "def replace_zeros(sap_id):\n",
        "    # Convert SAP ID to a string to handle its digits\n",
        "    sap_str = str(sap_id)\n",
        "\n",
        "    # Initialize an empty list to hold the replacements for zeros\n",
        "    replacement = list(sap_str)  # Start with the original digits\n",
        "\n",
        "    # Count the number of zeros to replace according to rules\n",
        "    zero_count = replacement.count('0')\n",
        "\n",
        "    # Replace zeros according to the specified rules\n",
        "    for i in range(zero_count):\n",
        "        if i == 0:\n",
        "            replacement[replacement.index('0')] = '9'  # Replace the first zero with 9\n",
        "        elif i == 1:\n",
        "            replacement[replacement.index('0')] = '7'  # Replace the second zero with 7\n",
        "        elif i == 2:\n",
        "            replacement[replacement.index('0')] = '5'  # Replace the third zero with 5\n",
        "        elif i == 3:\n",
        "            replacement[replacement.index('0')] = '3'  # Replace the fourth zero with 3\n",
        "\n",
        "    return replacement  # Return the list of replaced digits\n",
        "\n",
        "def populate_matrix(sap_id):\n",
        "    # Initialize the matrix with fixed values for the first row\n",
        "    A = np.array([[6, 4, 0],  # Fixed values for the first row of the matrix\n",
        "                  [0, 0, 0]])  # Second row initialized with zeros\n",
        "\n",
        "    # Get the last four digits and replace zeros based on user input (SAP ID)\n",
        "    replacements = replace_zeros(sap_id)\n",
        "\n",
        "    # Assign the last four digits to a, b, c, d\n",
        "    # Make sure to only take the last four digits\n",
        "    if len(replacements) >= 4:\n",
        "        a = replacements[-4]  # 1st digit for a\n",
        "        b = replacements[-3]  # 2nd digit for b\n",
        "        c = replacements[-2]  # 3rd digit for c\n",
        "        d = replacements[-1]  # 4th digit for d\n",
        "    else:\n",
        "        a, b, c, d = '0', '0', '0', '0'  # Default values if fewer than four digits\n",
        "\n",
        "    # Fill the matrix with the derived values\n",
        "    A[0, 2] = a  # Assign a to the 3rd column of the 1st row\n",
        "    A[1, 0] = b  # Assign b to the 1st column of the 2nd row\n",
        "    A[1, 1] = c  # Assign c to the 2nd column of the 2nd row\n",
        "    A[1, 2] = d  # Assign d to the 3rd column of the 2nd row\n",
        "\n",
        "    return A  # Return the populated matrix\n",
        "\n",
        "# Example SAP ID for testing\n",
        "sap_id = 1971  # You can change this to test with different SAP IDs\n",
        "\n",
        "# Populate the matrix using the given SAP ID\n",
        "result_matrix = populate_matrix(sap_id)\n",
        "\n",
        "# Compute the Singular Value Decomposition (SVD) of the matrix\n",
        "U, S, VT = np.linalg.svd(result_matrix)\n",
        "\n",
        "# Display the results\n",
        "print(\"Final Matrix A:\")\n",
        "print(result_matrix)  # Print the populated matrix\n",
        "\n",
        "print(\"\\nMatrix U:\")\n",
        "print(U)  # Print the U matrix from SVD\n",
        "\n",
        "print(\"\\nSingular Values (as a diagonal matrix):\")\n",
        "print(np.diag(S))  # Print the singular values in diagonal form\n",
        "\n",
        "print(\"\\nMatrix VT:\")\n",
        "print(VT)  # Print the transpose of the V matrix from SVD"
      ]
    },
    {
      "cell_type": "code",
      "source": [],
      "metadata": {
        "id": "k4estI6pX0O2"
      },
      "execution_count": null,
      "outputs": []
    }
  ]
}